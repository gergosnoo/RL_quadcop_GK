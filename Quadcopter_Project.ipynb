{
 "cells": [
  {
   "cell_type": "markdown",
   "metadata": {},
   "source": [
    "# Project: Train a Quadcopter How to Fly\n",
    "\n",
    "Design an agent to fly a quadcopter, and then train it using a reinforcement learning algorithm of your choice! \n",
    "\n",
    "Try to apply the techniques you have learnt, but also feel free to come up with innovative ideas and test them."
   ]
  },
  {
   "cell_type": "markdown",
   "metadata": {},
   "source": [
    "## Instructions\n",
    "\n",
    "Take a look at the files in the directory to better understand the structure of the project. \n",
    "\n",
    "- `task.py`: Define your task (environment) in this file.\n",
    "- `agents/`: Folder containing reinforcement learning agents.\n",
    "    - `policy_search.py`: A sample agent has been provided here.\n",
    "    - `agent.py`: Develop your agent here.\n",
    "- `physics_sim.py`: This file contains the simulator for the quadcopter.  **DO NOT MODIFY THIS FILE**.\n",
    "\n",
    "For this project, you will define your own task in `task.py`.  Although we have provided a example task to get you started, you are encouraged to change it.  Later in this notebook, you will learn more about how to amend this file.\n",
    "\n",
    "You will also design a reinforcement learning agent in `agent.py` to complete your chosen task.  \n",
    "\n",
    "You are welcome to create any additional files to help you to organize your code.  For instance, you may find it useful to define a `model.py` file defining any needed neural network architectures.\n",
    "\n",
    "## Controlling the Quadcopter\n",
    "\n",
    "We provide a sample agent in the code cell below to show you how to use the sim to control the quadcopter.  This agent is even simpler than the sample agent that you'll examine (in `agents/policy_search.py`) later in this notebook!\n",
    "\n",
    "The agent controls the quadcopter by setting the revolutions per second on each of its four rotors.  The provided agent in the `Basic_Agent` class below always selects a random action for each of the four rotors.  These four speeds are returned by the `act` method as a list of four floating-point numbers.  \n",
    "\n",
    "For this project, the agent that you will implement in `agents/agent.py` will have a far more intelligent method for selecting actions!"
   ]
  },
  {
   "cell_type": "code",
   "execution_count": 16,
   "outputs": [
    {
     "name": "stdout",
     "text": [
      "Num GPUs Available:  1\n"
     ],
     "output_type": "stream"
    }
   ],
   "source": [
    "import tensorflow as tf\n",
    "print(\"Num GPUs Available: \", len(tf.config.experimental.list_physical_devices('GPU')))"
   ],
   "metadata": {
    "collapsed": false,
    "pycharm": {
     "name": "#%%\n",
     "is_executing": false
    }
   }
  },
  {
   "cell_type": "code",
   "execution_count": 17,
   "metadata": {
    "pycharm": {
     "is_executing": false
    }
   },
   "outputs": [],
   "source": [
    "import random\n",
    "\n",
    "class Basic_Agent():\n",
    "    def __init__(self, task):\n",
    "        self.task = task\n",
    "    \n",
    "    def act(self):\n",
    "        new_thrust = random.gauss(450., 25.)\n",
    "        return [new_thrust + random.gauss(0., 1.) for x in range(4)]"
   ]
  },
  {
   "cell_type": "markdown",
   "metadata": {},
   "source": [
    "Run the code cell below to have the agent select actions to control the quadcopter.  \n",
    "\n",
    "Feel free to change the provided values of `runtime`, `init_pose`, `init_velocities`, and `init_angle_velocities` below to change the starting conditions of the quadcopter.\n",
    "\n",
    "The `labels` list below annotates statistics that are saved while running the simulation.  All of this information is saved in a text file `data.txt` and stored in the dictionary `results`.  "
   ]
  },
  {
   "cell_type": "code",
   "execution_count": 18,
   "metadata": {
    "pycharm": {
     "is_executing": false
    }
   },
   "outputs": [
    {
     "name": "stdout",
     "text": [
      "The autoreload extension is already loaded. To reload it, use:\n  %reload_ext autoreload\n"
     ],
     "output_type": "stream"
    }
   ],
   "source": [
    "%load_ext autoreload\n",
    "%autoreload 2\n",
    "\n",
    "import csv\n",
    "import numpy as np\n",
    "from task import Task\n",
    "\n",
    "# Modify the values below to give the quadcopter a different starting position.\n",
    "runtime = 5.                                     # time limit of the episode\n",
    "init_pose = np.array([0., 0., 10., 0., 0., 0.])  # initial pose\n",
    "init_velocities = np.array([0., 0., 0.])         # initial velocities\n",
    "init_angle_velocities = np.array([0., 0., 0.])   # initial angle velocities\n",
    "file_output = 'data.txt'                         # file name for saved results\n",
    "\n",
    "# Setup\n",
    "task = Task(init_pose, init_velocities, init_angle_velocities, runtime)\n",
    "agent = Basic_Agent(task)\n",
    "done = False\n",
    "labels = ['time', 'x', 'y', 'z', 'phi', 'theta', 'psi', 'x_velocity',\n",
    "          'y_velocity', 'z_velocity', 'phi_velocity', 'theta_velocity',\n",
    "          'psi_velocity', 'rotor_speed1', 'rotor_speed2', 'rotor_speed3', 'rotor_speed4']\n",
    "results = {x : [] for x in labels}\n",
    "\n",
    "# Run the simulation, and save the results.\n",
    "with open(file_output, 'w') as csvfile:\n",
    "    writer = csv.writer(csvfile)\n",
    "    writer.writerow(labels)\n",
    "    while True:\n",
    "        rotor_speeds = agent.act()\n",
    "        _, _, done = task.step(rotor_speeds)\n",
    "        to_write = [task.sim.time] + list(task.sim.pose) + list(task.sim.v) + list(task.sim.angular_v) + list(rotor_speeds)\n",
    "        for ii in range(len(labels)):\n",
    "            results[labels[ii]].append(to_write[ii])\n",
    "        writer.writerow(to_write)\n",
    "        if done:\n",
    "            break"
   ]
  },
  {
   "cell_type": "markdown",
   "metadata": {},
   "source": [
    "Run the code cell below to visualize how the position of the quadcopter evolved during the simulation."
   ]
  },
  {
   "cell_type": "code",
   "execution_count": 19,
   "metadata": {
    "pycharm": {
     "is_executing": false
    }
   },
   "outputs": [
    {
     "data": {
      "text/plain": "<Figure size 432x288 with 1 Axes>",
      "image/png": "[encoded data removed]"
     },
     "metadata": {
      "needs_background": "light"
     },
     "output_type": "display_data"
    }
   ],
   "source": [
    "import matplotlib.pyplot as plt\n",
    "%matplotlib inline\n",
    "\n",
    "plt.plot(results['time'], results['x'], label='x')\n",
    "plt.plot(results['time'], results['y'], label='y')\n",
    "plt.plot(results['time'], results['z'], label='z')\n",
    "plt.legend()\n",
    "_ = plt.ylim()"
   ]
  },
  {
   "cell_type": "markdown",
   "metadata": {},
   "source": [
    "The next code cell visualizes the velocity of the quadcopter."
   ]
  },
  {
   "cell_type": "code",
   "execution_count": 20,
   "metadata": {
    "pycharm": {
     "is_executing": false
    }
   },
   "outputs": [
    {
     "data": {
      "text/plain": "<Figure size 432x288 with 1 Axes>",
      "image/png": "[encoded data removed]"
     },
     "metadata": {
      "needs_background": "light"
     },
     "output_type": "display_data"
    }
   ],
   "source": [
    "plt.plot(results['time'], results['x_velocity'], label='x_hat')\n",
    "plt.plot(results['time'], results['y_velocity'], label='y_hat')\n",
    "plt.plot(results['time'], results['z_velocity'], label='z_hat')\n",
    "plt.legend()\n",
    "_ = plt.ylim()"
   ]
  },
  {
   "cell_type": "markdown",
   "metadata": {},
   "source": [
    "Next, you can plot the Euler angles (the rotation of the quadcopter over the $x$-, $y$-, and $z$-axes),"
   ]
  },
  {
   "cell_type": "code",
   "execution_count": 21,
   "metadata": {
    "pycharm": {
     "is_executing": false
    }
   },
   "outputs": [
    {
     "data": {
      "text/plain": "<Figure size 432x288 with 1 Axes>",
      "image/png": "[encoded data removed]"
     },
     "metadata": {
      "needs_background": "light"
     },
     "output_type": "display_data"
    }
   ],
   "source": [
    "plt.plot(results['time'], results['phi'], label='phi')\n",
    "plt.plot(results['time'], results['theta'], label='theta')\n",
    "plt.plot(results['time'], results['psi'], label='psi')\n",
    "plt.legend()\n",
    "_ = plt.ylim()"
   ]
  },
  {
   "cell_type": "markdown",
   "metadata": {},
   "source": [
    "before plotting the velocities (in radians per second) corresponding to each of the Euler angles."
   ]
  },
  {
   "cell_type": "code",
   "execution_count": 22,
   "metadata": {
    "pycharm": {
     "is_executing": false
    }
   },
   "outputs": [
    {
     "data": {
      "text/plain": "<Figure size 432x288 with 1 Axes>",
      "image/png": "[encoded data removed]"
     },
     "metadata": {
      "needs_background": "light"
     },
     "output_type": "display_data"
    }
   ],
   "source": [
    "plt.plot(results['time'], results['phi_velocity'], label='phi_velocity')\n",
    "plt.plot(results['time'], results['theta_velocity'], label='theta_velocity')\n",
    "plt.plot(results['time'], results['psi_velocity'], label='psi_velocity')\n",
    "plt.legend()\n",
    "_ = plt.ylim()"
   ]
  },
  {
   "cell_type": "markdown",
   "metadata": {},
   "source": [
    "Finally, you can use the code cell below to print the agent's choice of actions.  "
   ]
  },
  {
   "cell_type": "code",
   "execution_count": 23,
   "metadata": {
    "pycharm": {
     "is_executing": false
    }
   },
   "outputs": [
    {
     "data": {
      "text/plain": "<Figure size 432x288 with 1 Axes>",
      "image/png": "[encoded data removed]"
     },
     "metadata": {
      "needs_background": "light"
     },
     "output_type": "display_data"
    }
   ],
   "source": [
    "plt.plot(results['time'], results['rotor_speed1'], label='Rotor 1 revolutions / second')\n",
    "plt.plot(results['time'], results['rotor_speed2'], label='Rotor 2 revolutions / second')\n",
    "plt.plot(results['time'], results['rotor_speed3'], label='Rotor 3 revolutions / second')\n",
    "plt.plot(results['time'], results['rotor_speed4'], label='Rotor 4 revolutions / second')\n",
    "plt.legend()\n",
    "_ = plt.ylim()"
   ]
  },
  {
   "cell_type": "markdown",
   "metadata": {},
   "source": [
    "When specifying a task, you will derive the environment state from the simulator.  Run the code cell below to print the values of the following variables at the end of the simulation:\n",
    "- `task.sim.pose` (the position of the quadcopter in ($x,y,z$) dimensions and the Euler angles),\n",
    "- `task.sim.v` (the velocity of the quadcopter in ($x,y,z$) dimensions), and\n",
    "- `task.sim.angular_v` (radians/second for each of the three Euler angles)."
   ]
  },
  {
   "cell_type": "code",
   "execution_count": 24,
   "metadata": {
    "pycharm": {
     "is_executing": false
    }
   },
   "outputs": [
    {
     "name": "stdout",
     "text": [
      "[-3.14272751 -9.89447685 29.52762514  6.05761536  6.15502729  0.        ]\n[-0.6243944  -5.55731468  5.74176421]\n[-0.0809117  -0.14911503  0.        ]\n"
     ],
     "output_type": "stream"
    }
   ],
   "source": [
    "# the pose, velocity, and angular velocity of the quadcopter at the end of the episode\n",
    "print(task.sim.pose)\n",
    "print(task.sim.v)\n",
    "print(task.sim.angular_v)"
   ]
  },
  {
   "cell_type": "markdown",
   "metadata": {},
   "source": [
    "In the sample task in `task.py`, we use the 6-dimensional pose of the quadcopter to construct the state of the environment at each timestep.  However, when amending the task for your purposes, you are welcome to expand the size of the state vector by including the velocity information.  You can use any combination of the pose, velocity, and angular velocity - feel free to tinker here, and construct the state to suit your task.\n",
    "\n",
    "## The Task\n",
    "\n",
    "A sample task has been provided for you in `task.py`.  Open this file in a new window now. \n",
    "\n",
    "The `__init__()` method is used to initialize several variables that are needed to specify the task.  \n",
    "- The simulator is initialized as an instance of the `PhysicsSim` class (from `physics_sim.py`).  \n",
    "- Inspired by the methodology in the original DDPG paper, we make use of action repeats.  For each timestep of the agent, we step the simulation `action_repeats` timesteps.  If you are not familiar with action repeats, please read the **Results** section in [the DDPG paper](https://arxiv.org/abs/1509.02971).\n",
    "- We set the number of elements in the state vector.  For the sample task, we only work with the 6-dimensional pose information.  To set the size of the state (`state_size`), we must take action repeats into account.  \n",
    "- The environment will always have a 4-dimensional action space, with one entry for each rotor (`action_size=4`). You can set the minimum (`action_low`) and maximum (`action_high`) values of each entry here.\n",
    "- The sample task in this provided file is for the agent to reach a target position.  We specify that target position as a variable.\n",
    "\n",
    "The `reset()` method resets the simulator.  The agent should call this method every time the episode ends.  You can see an example of this in the code cell below.\n",
    "\n",
    "The `step()` method is perhaps the most important.  It accepts the agent's choice of action `rotor_speeds`, which is used to prepare the next state to pass on to the agent.  Then, the reward is computed from `get_reward()`.  The episode is considered done if the time limit has been exceeded, or the quadcopter has travelled outside of the bounds of the simulation.\n",
    "\n",
    "In the next section, you will learn how to test the performance of an agent on this task."
   ]
  },
  {
   "cell_type": "markdown",
   "metadata": {},
   "source": [
    "## The Agent\n",
    "\n",
    "The sample agent given in `agents/policy_search.py` uses a very simplistic linear policy to directly compute the action vector as a dot product of the state vector and a matrix of weights. Then, it randomly perturbs the parameters by adding some Gaussian noise, to produce a different policy. Based on the average reward obtained in each episode (`score`), it keeps track of the best set of parameters found so far, how the score is changing, and accordingly tweaks a scaling factor to widen or tighten the noise.\n",
    "\n",
    "Run the code cell below to see how the agent performs on the sample task."
   ]
  },
  {
   "cell_type": "code",
   "execution_count": null,
   "metadata": {
    "pycharm": {
     "is_executing": true
    }
   },
   "outputs": [
    {
     "name": "stdout",
     "text": [
      "\rEpisode =    1, score =  -0.632 (best =  -0.632), noise_scale = 0.05",
      "\rEpisode =    2, score =  -0.628 (best =  -0.628), noise_scale = 0.025",
      "\rEpisode =    3, score =  -0.629 (best =  -0.628), noise_scale = 0.05",
      "\rEpisode =    4, score =  -0.625 (best =  -0.625), noise_scale = 0.025",
      "\rEpisode =    5, score =  -0.644 (best =  -0.625), noise_scale = 0.05",
      "\rEpisode =    6, score =  -0.629 (best =  -0.625), noise_scale = 0.1",
      "\rEpisode =    7, score =  -0.622 (best =  -0.622), noise_scale = 0.05",
      "\rEpisode =    8, score =  -0.623 (best =  -0.622), noise_scale = 0.1",
      "\rEpisode =    9, score =  -0.623 (best =  -0.622), noise_scale = 0.2",
      "\rEpisode =   10, score =  -0.690 (best =  -0.622), noise_scale = 0.4",
      "\rEpisode =   11, score =  -0.632 (best =  -0.622), noise_scale = 0.8",
      "\rEpisode =   12, score =  -0.498 (best =  -0.498), noise_scale = 0.4",
      "\rEpisode =   13, score =  -0.369 (best =  -0.369), noise_scale = 0.2",
      "\rEpisode =   14, score =  -0.339 (best =  -0.339), noise_scale = 0.1",
      "\rEpisode =   15, score =  -0.341 (best =  -0.339), noise_scale = 0.2",
      "\rEpisode =   16, score =  -0.404 (best =  -0.339), noise_scale = 0.4",
      "\rEpisode =   17, score =  -0.471 (best =  -0.339), noise_scale = 0.8",
      "\rEpisode =   18, score =  -0.237 (best =  -0.237), noise_scale = 0.4",
      "\rEpisode =   19, score =  -0.399 (best =  -0.237), noise_scale = 0.8",
      "\rEpisode =   20, score =  -0.138 (best =  -0.138), noise_scale = 0.4",
      "\rEpisode =   21, score =  -0.157 (best =  -0.138), noise_scale = 0.8",
      "\rEpisode =   22, score =  -0.192 (best =  -0.138), noise_scale = 1.6",
      "\rEpisode =   23, score =  -0.366 (best =  -0.138), noise_scale = 3.2",
      "\rEpisode =   24, score =  -0.515 (best =  -0.138), noise_scale = 3.2",
      "\rEpisode =   25, score =  -0.332 (best =  -0.138), noise_scale = 3.2",
      "\rEpisode =   26, score =  -0.673 (best =  -0.138), noise_scale = 3.2",
      "\rEpisode =   27, score =  -0.191 (best =  -0.138), noise_scale = 3.2",
      "\rEpisode =   28, score =  -0.344 (best =  -0.138), noise_scale = 3.2",
      "\rEpisode =   29, score =  -0.382 (best =  -0.138), noise_scale = 3.2",
      "\rEpisode =   30, score =  -0.379 (best =  -0.138), noise_scale = 3.2",
      "\rEpisode =   31, score =  -0.161 (best =  -0.138), noise_scale = 3.2",
      "\rEpisode =   32, score =  -0.382 (best =  -0.138), noise_scale = 3.2",
      "\rEpisode =   33, score =  -0.806 (best =  -0.138), noise_scale = 3.2",
      "\rEpisode =   34, score =  -0.092 (best =  -0.092), noise_scale = 1.6",
      "\rEpisode =   35, score =  -0.471 (best =  -0.092), noise_scale = 3.2",
      "\rEpisode =   36, score =  -0.282 (best =  -0.092), noise_scale = 3.2",
      "\rEpisode =   37, score =  -0.472 (best =  -0.092), noise_scale = 3.2",
      "\rEpisode =   38, score =  -0.261 (best =  -0.092), noise_scale = 3.2",
      "\rEpisode =   39, score =  -0.313 (best =  -0.092), noise_scale = 3.2",
      "\rEpisode =   40, score =  -0.487 (best =  -0.092), noise_scale = 3.2",
      "\rEpisode =   41, score =  -0.207 (best =  -0.092), noise_scale = 3.2",
      "\rEpisode =   42, score =  -0.163 (best =  -0.092), noise_scale = 3.2",
      "\rEpisode =   43, score =  -0.056 (best =  -0.056), noise_scale = 1.6",
      "\rEpisode =   44, score =  -0.209 (best =  -0.056), noise_scale = 3.2",
      "\rEpisode =   45, score =  -0.152 (best =  -0.056), noise_scale = 3.2",
      "\rEpisode =   46, score =  -0.117 (best =  -0.056), noise_scale = 3.2",
      "\rEpisode =   47, score =  -0.306 (best =  -0.056), noise_scale = 3.2",
      "\rEpisode =   48, score =  -0.116 (best =  -0.056), noise_scale = 3.2",
      "\rEpisode =   49, score =  -0.132 (best =  -0.056), noise_scale = 3.2",
      "\rEpisode =   50, score =  -0.205 (best =  -0.056), noise_scale = 3.2",
      "\rEpisode =   51, score =  -0.454 (best =  -0.056), noise_scale = 3.2",
      "\rEpisode =   52, score =  -0.189 (best =  -0.056), noise_scale = 3.2",
      "\rEpisode =   53, score =  -0.336 (best =  -0.056), noise_scale = 3.2",
      "\rEpisode =   54, score =  -0.255 (best =  -0.056), noise_scale = 3.2",
      "\rEpisode =   55, score =  -0.212 (best =  -0.056), noise_scale = 3.2",
      "\rEpisode =   56, score =  -0.159 (best =  -0.056), noise_scale = 3.2",
      "\rEpisode =   57, score =  -0.238 (best =  -0.056), noise_scale = 3.2",
      "\rEpisode =   58, score =  -0.228 (best =  -0.056), noise_scale = 3.2",
      "\rEpisode =   59, score =  -0.679 (best =  -0.056), noise_scale = 3.2",
      "\rEpisode =   60, score =  -0.144 (best =  -0.056), noise_scale = 3.2",
      "\rEpisode =   61, score =  -0.248 (best =  -0.056), noise_scale = 3.2",
      "\rEpisode =   62, score =  -0.264 (best =  -0.056), noise_scale = 3.2",
      "\rEpisode =   63, score =  -0.434 (best =  -0.056), noise_scale = 3.2",
      "\rEpisode =   64, score =  -0.118 (best =  -0.056), noise_scale = 3.2",
      "\rEpisode =   65, score =  -0.401 (best =  -0.056), noise_scale = 3.2",
      "\rEpisode =   66, score =  -0.654 (best =  -0.056), noise_scale = 3.2",
      "\rEpisode =   67, score =  -0.574 (best =  -0.056), noise_scale = 3.2",
      "\rEpisode =   68, score =  -0.288 (best =  -0.056), noise_scale = 3.2",
      "\rEpisode =   69, score =  -0.231 (best =  -0.056), noise_scale = 3.2",
      "\rEpisode =   70, score =  -0.331 (best =  -0.056), noise_scale = 3.2",
      "\rEpisode =   71, score =  -0.387 (best =  -0.056), noise_scale = 3.2",
      "\rEpisode =   72, score =  -0.291 (best =  -0.056), noise_scale = 3.2",
      "\rEpisode =   73, score =  -0.284 (best =  -0.056), noise_scale = 3.2",
      "\rEpisode =   74, score =  -0.429 (best =  -0.056), noise_scale = 3.2",
      "\rEpisode =   75, score =  -0.415 (best =  -0.056), noise_scale = 3.2",
      "\rEpisode =   76, score =  -0.258 (best =  -0.056), noise_scale = 3.2",
      "\rEpisode =   77, score =  -0.128 (best =  -0.056), noise_scale = 3.2",
      "\rEpisode =   78, score =  -0.247 (best =  -0.056), noise_scale = 3.2",
      "\rEpisode =   79, score =  -0.315 (best =  -0.056), noise_scale = 3.2",
      "\rEpisode =   80, score =  -0.364 (best =  -0.056), noise_scale = 3.2",
      "\rEpisode =   81, score =  -0.331 (best =  -0.056), noise_scale = 3.2",
      "\rEpisode =   82, score =  -0.026 (best =  -0.026), noise_scale = 1.6",
      "\rEpisode =   83, score =  -0.038 (best =  -0.026), noise_scale = 3.2",
      "\rEpisode =   84, score =  -0.258 (best =  -0.026), noise_scale = 3.2",
      "\rEpisode =   85, score =  -0.153 (best =  -0.026), noise_scale = 3.2",
      "\rEpisode =   86, score =  -0.377 (best =  -0.026), noise_scale = 3.2",
      "\rEpisode =   87, score =  -0.221 (best =  -0.026), noise_scale = 3.2",
      "\rEpisode =   88, score =  -0.452 (best =  -0.026), noise_scale = 3.2",
      "\rEpisode =   89, score =  -0.159 (best =  -0.026), noise_scale = 3.2",
      "\rEpisode =   90, score =  -0.536 (best =  -0.026), noise_scale = 3.2",
      "\rEpisode =   91, score =  -0.040 (best =  -0.026), noise_scale = 3.2",
      "\rEpisode =   92, score =  -0.434 (best =  -0.026), noise_scale = 3.2",
      "\rEpisode =   93, score =  -0.083 (best =  -0.026), noise_scale = 3.2",
      "\rEpisode =   94, score =  -0.329 (best =  -0.026), noise_scale = 3.2",
      "\rEpisode =   95, score =  -0.289 (best =  -0.026), noise_scale = 3.2",
      "\rEpisode =   96, score =  -0.162 (best =  -0.026), noise_scale = 3.2",
      "\rEpisode =   97, score =  -0.220 (best =  -0.026), noise_scale = 3.2",
      "\rEpisode =   98, score =  -0.100 (best =  -0.026), noise_scale = 3.2",
      "\rEpisode =   99, score =  -0.330 (best =  -0.026), noise_scale = 3.2",
      "\rEpisode =  100, score =  -0.267 (best =  -0.026), noise_scale = 3.2",
      "\rEpisode =  101, score =  -0.509 (best =  -0.026), noise_scale = 3.2",
      "\rEpisode =  102, score =  -0.231 (best =  -0.026), noise_scale = 3.2",
      "\rEpisode =  103, score =  -0.122 (best =  -0.026), noise_scale = 3.2",
      "\rEpisode =  104, score =  -0.332 (best =  -0.026), noise_scale = 3.2",
      "\rEpisode =  105, score =  -0.200 (best =  -0.026), noise_scale = 3.2",
      "\rEpisode =  106, score =  -0.412 (best =  -0.026), noise_scale = 3.2",
      "\rEpisode =  107, score =  -0.319 (best =  -0.026), noise_scale = 3.2",
      "\rEpisode =  108, score =  -0.139 (best =  -0.026), noise_scale = 3.2",
      "\rEpisode =  109, score =  -0.251 (best =  -0.026), noise_scale = 3.2",
      "\rEpisode =  110, score =  -0.375 (best =  -0.026), noise_scale = 3.2",
      "\rEpisode =  111, score =  -0.352 (best =  -0.026), noise_scale = 3.2",
      "\rEpisode =  112, score =  -0.805 (best =  -0.026), noise_scale = 3.2",
      "\rEpisode =  113, score =  -0.440 (best =  -0.026), noise_scale = 3.2",
      "\rEpisode =  114, score =  -0.144 (best =  -0.026), noise_scale = 3.2",
      "\rEpisode =  115, score =  -0.335 (best =  -0.026), noise_scale = 3.2",
      "\rEpisode =  116, score =  -0.683 (best =  -0.026), noise_scale = 3.2",
      "\rEpisode =  117, score =  -0.205 (best =  -0.026), noise_scale = 3.2",
      "\rEpisode =  118, score =  -0.287 (best =  -0.026), noise_scale = 3.2",
      "\rEpisode =  119, score =  -0.315 (best =  -0.026), noise_scale = 3.2",
      "\rEpisode =  120, score =  -0.280 (best =  -0.026), noise_scale = 3.2",
      "\rEpisode =  121, score =  -0.310 (best =  -0.026), noise_scale = 3.2",
      "\rEpisode =  122, score =  -0.179 (best =  -0.026), noise_scale = 3.2",
      "\rEpisode =  123, score =  -0.321 (best =  -0.026), noise_scale = 3.2",
      "\rEpisode =  124, score =  -0.344 (best =  -0.026), noise_scale = 3.2",
      "\rEpisode =  125, score =  -0.269 (best =  -0.026), noise_scale = 3.2",
      "\rEpisode =  126, score =  -0.218 (best =  -0.026), noise_scale = 3.2",
      "\rEpisode =  127, score =  -0.158 (best =  -0.026), noise_scale = 3.2",
      "\rEpisode =  128, score =  -0.144 (best =  -0.026), noise_scale = 3.2",
      "\rEpisode =  129, score =  -0.242 (best =  -0.026), noise_scale = 3.2",
      "\rEpisode =  130, score =  -0.719 (best =  -0.026), noise_scale = 3.2",
      "\rEpisode =  131, score =  -0.228 (best =  -0.026), noise_scale = 3.2",
      "\rEpisode =  132, score =  -0.316 (best =  -0.026), noise_scale = 3.2",
      "\rEpisode =  133, score =  -0.329 (best =  -0.026), noise_scale = 3.2",
      "\rEpisode =  134, score =  -0.536 (best =  -0.026), noise_scale = 3.2",
      "\rEpisode =  135, score =  -0.165 (best =  -0.026), noise_scale = 3.2",
      "\rEpisode =  136, score =  -0.386 (best =  -0.026), noise_scale = 3.2",
      "\rEpisode =  137, score =  -0.106 (best =  -0.026), noise_scale = 3.2",
      "\rEpisode =  138, score =  -0.199 (best =  -0.026), noise_scale = 3.2",
      "\rEpisode =  139, score =  -0.300 (best =  -0.026), noise_scale = 3.2",
      "\rEpisode =  140, score =  -0.570 (best =  -0.026), noise_scale = 3.2",
      "\rEpisode =  141, score =  -0.744 (best =  -0.026), noise_scale = 3.2",
      "\rEpisode =  142, score =  -0.241 (best =  -0.026), noise_scale = 3.2",
      "\rEpisode =  143, score =  -0.176 (best =  -0.026), noise_scale = 3.2",
      "\rEpisode =  144, score =  -0.286 (best =  -0.026), noise_scale = 3.2",
      "\rEpisode =  145, score =  -0.368 (best =  -0.026), noise_scale = 3.2",
      "\rEpisode =  146, score =  -0.224 (best =  -0.026), noise_scale = 3.2",
      "\rEpisode =  147, score =  -0.755 (best =  -0.026), noise_scale = 3.2",
      "\rEpisode =  148, score =  -0.137 (best =  -0.026), noise_scale = 3.2",
      "\rEpisode =  149, score =  -0.177 (best =  -0.026), noise_scale = 3.2",
      "\rEpisode =  150, score =  -0.654 (best =  -0.026), noise_scale = 3.2",
      "\rEpisode =  151, score =  -0.233 (best =  -0.026), noise_scale = 3.2",
      "\rEpisode =  152, score =  -0.291 (best =  -0.026), noise_scale = 3.2",
      "\rEpisode =  153, score =  -0.331 (best =  -0.026), noise_scale = 3.2",
      "\rEpisode =  154, score =  -0.413 (best =  -0.026), noise_scale = 3.2",
      "\rEpisode =  155, score =  -0.190 (best =  -0.026), noise_scale = 3.2",
      "\rEpisode =  156, score =  -0.781 (best =  -0.026), noise_scale = 3.2",
      "\rEpisode =  157, score =  -0.266 (best =  -0.026), noise_scale = 3.2",
      "\rEpisode =  158, score =  -0.549 (best =  -0.026), noise_scale = 3.2",
      "\rEpisode =  159, score =  -0.414 (best =  -0.026), noise_scale = 3.2",
      "\rEpisode =  160, score =  -0.245 (best =  -0.026), noise_scale = 3.2",
      "\rEpisode =  161, score =  -0.344 (best =  -0.026), noise_scale = 3.2",
      "\rEpisode =  162, score =  -0.229 (best =  -0.026), noise_scale = 3.2",
      "\rEpisode =  163, score =  -0.199 (best =  -0.026), noise_scale = 3.2",
      "\rEpisode =  164, score =  -0.493 (best =  -0.026), noise_scale = 3.2",
      "\rEpisode =  165, score =  -0.512 (best =  -0.026), noise_scale = 3.2",
      "\rEpisode =  166, score =  -0.437 (best =  -0.026), noise_scale = 3.2",
      "\rEpisode =  167, score =  -0.336 (best =  -0.026), noise_scale = 3.2",
      "\rEpisode =  168, score =  -0.301 (best =  -0.026), noise_scale = 3.2",
      "\rEpisode =  169, score =  -0.122 (best =  -0.026), noise_scale = 3.2",
      "\rEpisode =  170, score =  -0.273 (best =  -0.026), noise_scale = 3.2",
      "\rEpisode =  171, score =  -0.755 (best =  -0.026), noise_scale = 3.2",
      "\rEpisode =  172, score =  -0.217 (best =  -0.026), noise_scale = 3.2",
      "\rEpisode =  173, score =  -0.344 (best =  -0.026), noise_scale = 3.2",
      "\rEpisode =  174, score =  -0.294 (best =  -0.026), noise_scale = 3.2",
      "\rEpisode =  175, score =  -0.336 (best =  -0.026), noise_scale = 3.2",
      "\rEpisode =  176, score =  -0.390 (best =  -0.026), noise_scale = 3.2",
      "\rEpisode =  177, score =  -0.430 (best =  -0.026), noise_scale = 3.2",
      "\rEpisode =  178, score =  -0.157 (best =  -0.026), noise_scale = 3.2",
      "\rEpisode =  179, score =  -0.371 (best =  -0.026), noise_scale = 3.2",
      "\rEpisode =  180, score =  -0.202 (best =  -0.026), noise_scale = 3.2",
      "\rEpisode =  181, score =  -0.116 (best =  -0.026), noise_scale = 3.2",
      "\rEpisode =  182, score =  -0.349 (best =  -0.026), noise_scale = 3.2",
      "\rEpisode =  183, score =  -0.520 (best =  -0.026), noise_scale = 3.2",
      "\rEpisode =  184, score =  -0.373 (best =  -0.026), noise_scale = 3.2",
      "\rEpisode =  185, score =  -0.746 (best =  -0.026), noise_scale = 3.2",
      "\rEpisode =  186, score =  -0.035 (best =  -0.026), noise_scale = 3.2",
      "\rEpisode =  187, score =  -0.148 (best =  -0.026), noise_scale = 3.2",
      "\rEpisode =  188, score =  -0.684 (best =  -0.026), noise_scale = 3.2",
      "\rEpisode =  189, score =  -0.346 (best =  -0.026), noise_scale = 3.2",
      "\rEpisode =  190, score =  -0.152 (best =  -0.026), noise_scale = 3.2",
      "\rEpisode =  191, score =  -0.430 (best =  -0.026), noise_scale = 3.2",
      "\rEpisode =  192, score =  -0.749 (best =  -0.026), noise_scale = 3.2",
      "\rEpisode =  193, score =  -0.395 (best =  -0.026), noise_scale = 3.2",
      "\rEpisode =  194, score =  -0.739 (best =  -0.026), noise_scale = 3.2",
      "\rEpisode =  195, score =  -0.386 (best =  -0.026), noise_scale = 3.2",
      "\rEpisode =  196, score =  -0.403 (best =  -0.026), noise_scale = 3.2",
      "\rEpisode =  197, score =  -0.169 (best =  -0.026), noise_scale = 3.2",
      "\rEpisode =  198, score =  -0.306 (best =  -0.026), noise_scale = 3.2",
      "\rEpisode =  199, score =  -0.080 (best =  -0.026), noise_scale = 3.2",
      "\rEpisode =  200, score =  -0.488 (best =  -0.026), noise_scale = 3.2",
      "\rEpisode =  201, score =  -0.338 (best =  -0.026), noise_scale = 3.2",
      "\rEpisode =  202, score =  -0.175 (best =  -0.026), noise_scale = 3.2",
      "\rEpisode =  203, score =  -0.309 (best =  -0.026), noise_scale = 3.2",
      "\rEpisode =  204, score =  -0.318 (best =  -0.026), noise_scale = 3.2",
      "\rEpisode =  205, score =  -0.533 (best =  -0.026), noise_scale = 3.2",
      "\rEpisode =  206, score =  -0.461 (best =  -0.026), noise_scale = 3.2",
      "\rEpisode =  207, score =  -0.619 (best =  -0.026), noise_scale = 3.2",
      "\rEpisode =  208, score =  -0.280 (best =  -0.026), noise_scale = 3.2",
      "\rEpisode =  209, score =  -0.731 (best =  -0.026), noise_scale = 3.2",
      "\rEpisode =  210, score =  -0.216 (best =  -0.026), noise_scale = 3.2",
      "\rEpisode =  211, score =  -0.259 (best =  -0.026), noise_scale = 3.2",
      "\rEpisode =  212, score =  -0.557 (best =  -0.026), noise_scale = 3.2",
      "\rEpisode =  213, score =  -0.465 (best =  -0.026), noise_scale = 3.2",
      "\rEpisode =  214, score =  -0.344 (best =  -0.026), noise_scale = 3.2",
      "\rEpisode =  215, score =  -0.195 (best =  -0.026), noise_scale = 3.2",
      "\rEpisode =  216, score =  -0.506 (best =  -0.026), noise_scale = 3.2",
      "\rEpisode =  217, score =  -0.227 (best =  -0.026), noise_scale = 3.2",
      "\rEpisode =  218, score =  -0.168 (best =  -0.026), noise_scale = 3.2",
      "\rEpisode =  219, score =  -0.810 (best =  -0.026), noise_scale = 3.2",
      "\rEpisode =  220, score =  -0.133 (best =  -0.026), noise_scale = 3.2",
      "\rEpisode =  221, score =  -0.643 (best =  -0.026), noise_scale = 3.2",
      "\rEpisode =  222, score =  -0.213 (best =  -0.026), noise_scale = 3.2",
      "\rEpisode =  223, score =  -0.342 (best =  -0.026), noise_scale = 3.2",
      "\rEpisode =  224, score =  -0.541 (best =  -0.026), noise_scale = 3.2",
      "\rEpisode =  225, score =  -0.486 (best =  -0.026), noise_scale = 3.2",
      "\rEpisode =  226, score =  -0.179 (best =  -0.026), noise_scale = 3.2",
      "\rEpisode =  227, score =  -0.097 (best =  -0.026), noise_scale = 3.2",
      "\rEpisode =  228, score =  -0.421 (best =  -0.026), noise_scale = 3.2",
      "\rEpisode =  229, score =  -0.160 (best =  -0.026), noise_scale = 3.2",
      "\rEpisode =  230, score =  -0.450 (best =  -0.026), noise_scale = 3.2",
      "\rEpisode =  231, score =  -0.198 (best =  -0.026), noise_scale = 3.2",
      "\rEpisode =  232, score =  -0.208 (best =  -0.026), noise_scale = 3.2",
      "\rEpisode =  233, score =  -0.148 (best =  -0.026), noise_scale = 3.2",
      "\rEpisode =  234, score =  -0.531 (best =  -0.026), noise_scale = 3.2",
      "\rEpisode =  235, score =  -0.128 (best =  -0.026), noise_scale = 3.2",
      "\rEpisode =  236, score =  -0.381 (best =  -0.026), noise_scale = 3.2",
      "\rEpisode =  237, score =  -0.574 (best =  -0.026), noise_scale = 3.2",
      "\rEpisode =  238, score =  -0.373 (best =  -0.026), noise_scale = 3.2",
      "\rEpisode =  239, score =  -0.174 (best =  -0.026), noise_scale = 3.2",
      "\rEpisode =  240, score =  -0.633 (best =  -0.026), noise_scale = 3.2",
      "\rEpisode =  241, score =  -0.321 (best =  -0.026), noise_scale = 3.2",
      "\rEpisode =  242, score =  -0.174 (best =  -0.026), noise_scale = 3.2",
      "\rEpisode =  243, score =  -0.578 (best =  -0.026), noise_scale = 3.2",
      "\rEpisode =  244, score =  -0.173 (best =  -0.026), noise_scale = 3.2",
      "\rEpisode =  245, score =  -0.187 (best =  -0.026), noise_scale = 3.2",
      "\rEpisode =  246, score =  -0.271 (best =  -0.026), noise_scale = 3.2",
      "\rEpisode =  247, score =  -0.235 (best =  -0.026), noise_scale = 3.2",
      "\rEpisode =  248, score =  -0.504 (best =  -0.026), noise_scale = 3.2",
      "\rEpisode =  249, score =  -0.335 (best =  -0.026), noise_scale = 3.2",
      "\rEpisode =  250, score =  -0.255 (best =  -0.026), noise_scale = 3.2",
      "\rEpisode =  251, score =  -0.404 (best =  -0.026), noise_scale = 3.2",
      "\rEpisode =  252, score =  -0.401 (best =  -0.026), noise_scale = 3.2",
      "\rEpisode =  253, score =  -0.260 (best =  -0.026), noise_scale = 3.2",
      "\rEpisode =  254, score =  -0.426 (best =  -0.026), noise_scale = 3.2",
      "\rEpisode =  255, score =  -0.159 (best =  -0.026), noise_scale = 3.2",
      "\rEpisode =  256, score =  -0.394 (best =  -0.026), noise_scale = 3.2",
      "\rEpisode =  257, score =  -0.232 (best =  -0.026), noise_scale = 3.2",
      "\rEpisode =  258, score =  -0.163 (best =  -0.026), noise_scale = 3.2",
      "\rEpisode =  259, score =  -0.483 (best =  -0.026), noise_scale = 3.2",
      "\rEpisode =  260, score =  -0.165 (best =  -0.026), noise_scale = 3.2",
      "\rEpisode =  261, score =  -0.100 (best =  -0.026), noise_scale = 3.2",
      "\rEpisode =  262, score =  -0.696 (best =  -0.026), noise_scale = 3.2",
      "\rEpisode =  263, score =  -0.205 (best =  -0.026), noise_scale = 3.2",
      "\rEpisode =  264, score =  -0.319 (best =  -0.026), noise_scale = 3.2",
      "\rEpisode =  265, score =  -0.545 (best =  -0.026), noise_scale = 3.2",
      "\rEpisode =  266, score =  -0.519 (best =  -0.026), noise_scale = 3.2",
      "\rEpisode =  267, score =  -0.607 (best =  -0.026), noise_scale = 3.2",
      "\rEpisode =  268, score =  -0.217 (best =  -0.026), noise_scale = 3.2",
      "\rEpisode =  269, score =  -0.381 (best =  -0.026), noise_scale = 3.2",
      "\rEpisode =  270, score =  -0.405 (best =  -0.026), noise_scale = 3.2",
      "\rEpisode =  271, score =  -0.785 (best =  -0.026), noise_scale = 3.2",
      "\rEpisode =  272, score =  -0.450 (best =  -0.026), noise_scale = 3.2",
      "\rEpisode =  273, score =  -0.646 (best =  -0.026), noise_scale = 3.2",
      "\rEpisode =  274, score =  -0.300 (best =  -0.026), noise_scale = 3.2",
      "\rEpisode =  275, score =  -0.334 (best =  -0.026), noise_scale = 3.2",
      "\rEpisode =  276, score =  -0.253 (best =  -0.026), noise_scale = 3.2",
      "\rEpisode =  277, score =  -0.116 (best =  -0.026), noise_scale = 3.2",
      "\rEpisode =  278, score =  -0.623 (best =  -0.026), noise_scale = 3.2",
      "\rEpisode =  279, score =  -0.443 (best =  -0.026), noise_scale = 3.2",
      "\rEpisode =  280, score =  -0.407 (best =  -0.026), noise_scale = 3.2",
      "\rEpisode =  281, score =  -0.666 (best =  -0.026), noise_scale = 3.2",
      "\rEpisode =  282, score =  -0.371 (best =  -0.026), noise_scale = 3.2",
      "\rEpisode =  283, score =  -0.488 (best =  -0.026), noise_scale = 3.2",
      "\rEpisode =  284, score =  -0.200 (best =  -0.026), noise_scale = 3.2",
      "\rEpisode =  285, score =  -0.623 (best =  -0.026), noise_scale = 3.2",
      "\rEpisode =  286, score =  -0.214 (best =  -0.026), noise_scale = 3.2",
      "\rEpisode =  287, score =  -0.484 (best =  -0.026), noise_scale = 3.2",
      "\rEpisode =  288, score =  -0.404 (best =  -0.026), noise_scale = 3.2",
      "\rEpisode =  289, score =  -0.187 (best =  -0.026), noise_scale = 3.2",
      "\rEpisode =  290, score =  -0.237 (best =  -0.026), noise_scale = 3.2",
      "\rEpisode =  291, score =  -0.652 (best =  -0.026), noise_scale = 3.2",
      "\rEpisode =  292, score =  -0.244 (best =  -0.026), noise_scale = 3.2",
      "\rEpisode =  293, score =  -0.452 (best =  -0.026), noise_scale = 3.2",
      "\rEpisode =  294, score =  -0.197 (best =  -0.026), noise_scale = 3.2",
      "\rEpisode =  295, score =  -0.231 (best =  -0.026), noise_scale = 3.2",
      "\rEpisode =  296, score =  -0.702 (best =  -0.026), noise_scale = 3.2",
      "\rEpisode =  297, score =  -0.431 (best =  -0.026), noise_scale = 3.2",
      "\rEpisode =  298, score =  -0.728 (best =  -0.026), noise_scale = 3.2",
      "\rEpisode =  299, score =  -0.503 (best =  -0.026), noise_scale = 3.2",
      "\rEpisode =  300, score =  -0.681 (best =  -0.026), noise_scale = 3.2",
      "\rEpisode =  301, score =  -0.432 (best =  -0.026), noise_scale = 3.2",
      "\rEpisode =  302, score =  -0.428 (best =  -0.026), noise_scale = 3.2",
      "\rEpisode =  303, score =  -0.551 (best =  -0.026), noise_scale = 3.2"
     ],
     "output_type": "stream"
    }
   ],
   "source": [
    "import sys\n",
    "import pandas as pd\n",
    "from agents.policy_search import PolicySearch_Agent\n",
    "from task import Task\n",
    "\n",
    "num_episodes = 1250\n",
    "target_pos = np.array([0., 0., 10.])\n",
    "task = Task(target_pos=target_pos)\n",
    "agent = PolicySearch_Agent(task) \n",
    "\n",
    "for i_episode in range(1, num_episodes+1):\n",
    "    state = agent.reset_episode() # start a new episode\n",
    "    while True:\n",
    "        action = agent.act(state) \n",
    "        next_state, reward, done = task.step(action)\n",
    "        agent.step(reward, done)\n",
    "        state = next_state\n",
    "        if done:\n",
    "            print(\"\\rEpisode = {:4d}, score = {:7.3f} (best = {:7.3f}), noise_scale = {}\".format(\n",
    "                i_episode, agent.score, agent.best_score, agent.noise_scale), end=\"\")  # [debug]\n",
    "            break\n",
    "    sys.stdout.flush()"
   ]
  },
  {
   "cell_type": "markdown",
   "metadata": {},
   "source": [
    "This agent should perform very poorly on this task.  And that's where you come in!"
   ]
  },
  {
   "cell_type": "markdown",
   "metadata": {
    "collapsed": true
   },
   "source": [
    "## Define the Task, Design the Agent, and Train Your Agent!\n",
    "\n",
    "Amend `task.py` to specify a task of your choosing.  If you're unsure what kind of task to specify, you may like to teach your quadcopter to takeoff, hover in place, land softly, or reach a target pose.  \n",
    "\n",
    "After specifying your task, use the sample agent in `agents/policy_search.py` as a template to define your own agent in `agents/agent.py`.  You can borrow whatever you need from the sample agent, including ideas on how you might modularize your code (using helper methods like `act()`, `learn()`, `reset_episode()`, etc.).\n",
    "\n",
    "Note that it is **highly unlikely** that the first agent and task that you specify will learn well.  You will likely have to tweak various hyperparameters and the reward function for your task until you arrive at reasonably good behavior.\n",
    "\n",
    "As you develop your agent, it's important to keep an eye on how it's performing. Use the code above as inspiration to build in a mechanism to log/save the total rewards obtained in each episode to file.  If the episode rewards are gradually increasing, this is an indication that your agent is learning."
   ]
  },
  {
   "cell_type": "code",
   "execution_count": null,
   "metadata": {
    "pycharm": {
     "is_executing": true
    }
   },
   "outputs": [],
   "source": [
    "## TODO: Train your agent here.\n",
    "import tensorflow as tf\n",
    "\n",
    "from mpl_toolkits.mplot3d import Axes3D\n",
    "\n",
    "fig = plt.figure(figsize = (14,8))\n",
    "ax = fig.add_subplot(111, projection='3d')\n",
    "\n",
    "ax.set_xlabel('X')\n",
    "ax.set_ylabel('Y')\n",
    "ax.set_zlabel('Z')\n",
    "\n",
    "ax.scatter(results['x'], results['y'], results['z'])"
   ]
  },
  {
   "cell_type": "code",
   "execution_count": null,
   "metadata": {
    "pycharm": {
     "is_executing": true,
     "name": "#%%\n"
    }
   },
   "outputs": [],
   "source": [
    "from agents.agent import DDPG\n",
    "\n",
    "agent = DDPG(task)\n",
    "state = agent.reset_episode()\n",
    "print(task.get_reward())"
   ]
  },
  {
   "cell_type": "code",
   "execution_count": null,
   "metadata": {
    "pycharm": {
     "is_executing": true,
     "name": "#%%\n"
    }
   },
   "outputs": [],
   "source": [
    "for i_episode in range(1, num_episodes+1):\n",
    "    state = agent.reset_episode() # start a new episode\n",
    "    while True:\n",
    "        action = agent.act(state) \n",
    "        next_state, reward, done = task.step(action)\n",
    "        agent.step(action, reward, next_state, done)\n",
    "        state = next_state\n",
    "        if done:\n",
    "            print(\"\\rEpisode = {:4d}, noise = {}, reward = {}\".format(\n",
    "                i_episode, agent.noise.sample(), task.get_reward()), end=\"\")  # [debug]\n",
    "            break\n",
    "    sys.stdout.flush()\n"
   ]
  },
  {
   "cell_type": "code",
   "execution_count": null,
   "metadata": {
    "pycharm": {
     "is_executing": true,
     "name": "#%%\n"
    }
   },
   "outputs": [],
   "source": [
    "from mpl_toolkits.mplot3d import Axes3D\n",
    "import matplotlib.pyplot as plt\n",
    "%matplotlib inline\n",
    "import time\n",
    "\n",
    "class AnimatedPlot():\n",
    "    def __init__(self):\n",
    "        \"\"\"Initialize parameters\"\"\"\n",
    "        self.X, self.Y, self.Z = [], [], []\n",
    "\n",
    "        self.fig = plt.figure(figsize = (14,8))\n",
    "        self.ax = self.fig.add_subplot(111, projection='3d')\n",
    "\n",
    "    def plot(self, task, i_episode=None):\n",
    "        pose = task.sim.pose[:3]\n",
    "        self.X.append(pose[0])\n",
    "        self.Y.append(pose[1])\n",
    "        self.Z.append(pose[2])\n",
    "        self.ax.clear()\n",
    "        if i_episode:\n",
    "            plt.title(\"Episode {}\".format(i_episode))\n",
    "\n",
    "        if len(self.X)>1:\n",
    "            self.ax.scatter(self.X[:-1], self.Y[:-1], self.Z[:-1], c='k', alpha=0.3)\n",
    "        if task.sim.done and task.sim.runtime > task.sim.time:\n",
    "            # Colision\n",
    "            self.ax.scatter(pose[0], pose[1], pose[2], c='r', marker='*', linewidths=5)\n",
    "            print('colision: ', pose)\n",
    "        else:\n",
    "            self.ax.scatter(pose[0], pose[1], pose[2], c='k', marker='s', linewidths=5)\n",
    "            #print('else: ', pose)\n",
    "\n",
    "        self.fig.canvas.draw()\n",
    "        time.sleep(0.5)"
   ]
  },
  {
   "cell_type": "code",
   "execution_count": null,
   "outputs": [],
   "source": [
    "myplot = AnimatedPlot()\n",
    "\n",
    "for i in range(10):\n",
    "    state = agent.reset_episode() # start a new episode\n",
    "    epsodie = 1\n",
    "\n",
    "    target_pos = np.array([0., 0., 10.])\n",
    "    task = Task(target_pos=target_pos)\n",
    "\n",
    "\n",
    "    while True:\n",
    "        action = agent.act(state) \n",
    "        next_state, reward, done = task.step(action)\n",
    "        agent.step(action, reward, next_state, done)\n",
    "        state = next_state\n",
    "\n",
    "\n",
    "        # CALL THE METHOD plot(task)\n",
    "        myplot.plot(task,epsodie)\n",
    "        epsodie += 1\n",
    "\n",
    "        if done:\n",
    "            break"
   ],
   "metadata": {
    "collapsed": false,
    "pycharm": {
     "name": "#%%\n",
     "is_executing": true
    }
   }
  },
  {
   "cell_type": "code",
   "execution_count": null,
   "metadata": {
    "pycharm": {
     "name": "#%%\n",
     "is_executing": true
    }
   },
   "outputs": [],
   "source": [
    "# Run the simulation, and save the results.\n",
    "with open(file_output, 'w') as csvfile:\n",
    "    writer = csv.writer(csvfile)\n",
    "    writer.writerow(labels)\n",
    "    while True:\n",
    "        rotor_speeds = agent.act(state) \n",
    "        _, _, done = task.step(rotor_speeds)\n",
    "        to_write = [task.sim.time] + list(task.sim.pose) + list(task.sim.v) + list(task.sim.angular_v) + list(rotor_speeds)\n",
    "        for ii in range(len(labels)):\n",
    "            results[labels[ii]].append(to_write[ii])\n",
    "        writer.writerow(to_write)\n",
    "        if done:\n",
    "            break"
   ]
  },
  {
   "cell_type": "markdown",
   "metadata": {
    "collapsed": true
   },
   "source": [
    "## Plot the Rewards\n",
    "\n",
    "Once you are satisfied with your performance, plot the episode rewards, either from a single run, or averaged over multiple runs. "
   ]
  },
  {
   "cell_type": "code",
   "execution_count": null,
   "metadata": {
    "collapsed": true,
    "pycharm": {
     "is_executing": true
    }
   },
   "outputs": [],
   "source": [
    "## TODO: Plot the rewards."
   ]
  },
  {
   "cell_type": "markdown",
   "metadata": {
    "collapsed": true
   },
   "source": [
    "## Reflections\n",
    "\n",
    "**Question 1**: Describe the task that you specified in `task.py`.  How did you design the reward function?\n",
    "\n",
    "**Answer**:"
   ]
  },
  {
   "cell_type": "markdown",
   "metadata": {},
   "source": [
    "**Question 2**: Discuss your agent briefly, using the following questions as a guide:\n",
    "\n",
    "- What learning algorithm(s) did you try? What worked best for you?\n",
    "- What was your final choice of hyperparameters (such as $\\alpha$, $\\gamma$, $\\epsilon$, etc.)?\n",
    "- What neural network architecture did you use (if any)? Specify layers, sizes, activation functions, etc.\n",
    "\n",
    "**Answer**:"
   ]
  },
  {
   "cell_type": "markdown",
   "metadata": {},
   "source": [
    "**Question 3**: Using the episode rewards plot, discuss how the agent learned over time.\n",
    "\n",
    "- Was it an easy task to learn or hard?\n",
    "- Was there a gradual learning curve, or an aha moment?\n",
    "- How good was the final performance of the agent? (e.g. mean rewards over the last 10 episodes)\n",
    "\n",
    "**Answer**:"
   ]
  },
  {
   "cell_type": "markdown",
   "metadata": {},
   "source": [
    "**Question 4**: Briefly summarize your experience working on this project. You can use the following prompts for ideas.\n",
    "\n",
    "- What was the hardest part of the project? (e.g. getting started, plotting, specifying the task, etc.)\n",
    "- Did you find anything interesting in how the quadcopter or your agent behaved?\n",
    "\n",
    "**Answer**:"
   ]
  }
 ],
 "metadata": {
  "anaconda-cloud": {},
  "kernelspec": {
   "display_name": "quadcop",
   "language": "python",
   "name": "quadcop"
  },
  "language_info": {
   "codemirror_mode": {
    "name": "ipython",
    "version": 3
   },
   "file_extension": ".py",
   "mimetype": "text/x-python",
   "name": "python",
   "nbconvert_exporter": "python",
   "pygments_lexer": "ipython3",
   "version": "3.6.10"
  },
  "pycharm": {
   "stem_cell": {
    "cell_type": "raw",
    "source": [],
    "metadata": {
     "collapsed": false
    }
   }
  }
 },
 "nbformat": 4,
 "nbformat_minor": 2
}